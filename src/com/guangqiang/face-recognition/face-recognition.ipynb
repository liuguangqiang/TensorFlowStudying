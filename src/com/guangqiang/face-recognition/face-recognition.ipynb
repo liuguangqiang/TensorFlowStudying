{
 "cells": [
  {
   "cell_type": "code",
   "execution_count": 14,
   "metadata": {
    "collapsed": true
   },
   "outputs": [
    {
     "name": "stdout",
     "output_type": "stream",
     "text": [
      "/Users/eric/Coding/Workspaces/Python/TensorFlowStudying/src/com/guangqiang/face-recognition\nimages/marvel/Iron_Man/Iron_Man_001.png\n"
     ]
    }
   ],
   "source": [
    "import numpy as np\n",
    "import cv2\n",
    "import os.path\n",
    "\n",
    "path = os.getcwd()\n",
    "if \"face-recognition\" not in path:\n",
    "    path = path + \"/src/com/guangqiang/face-recognition\"\n",
    "\n",
    "os.chdir(path)\n",
    "print(path)\n",
    "\n",
    "class MetaData:\n",
    "    def __init__(self, base, name, file):\n",
    "        self.base = base\n",
    "        self.name = name\n",
    "        self.file = file\n",
    "        \n",
    "    def image_path(self):\n",
    "        return os.path.join(self.base, self.name, self.file) \n",
    "    \n",
    "\n",
    "def load_metadata(path):\n",
    "    data = []\n",
    "    for i in os.listdir(path):\n",
    "        for f in os.listdir(os.path.join(path, i)):\n",
    "            ext = os.path.splitext(f)[1]\n",
    "            if ext == \".png\":\n",
    "                data.append(MetaData(path, i, f))\n",
    "    return np.array(data)               \n",
    "                \n",
    "metadatas = load_metadata(\"images/marvel\")\n",
    "print(metadatas[0].image_path())\n",
    "\n",
    "def load_image(path):\n",
    "    img = cv2.imread(path, 1)\n",
    "    return img"
   ]
  },
  {
   "cell_type": "code",
   "execution_count": 15,
   "metadata": {},
   "outputs": [],
   "source": [
    "import matplotlib.pyplot as plt\n",
    "\n",
    "from align import AlignDlib\n",
    "alignment = AlignDlib(\"landmarks.dat\")\n",
    "img = load_image(metadatas[0].image_path())\n"
   ]
  },
  {
   "cell_type": "code",
   "execution_count": null,
   "metadata": {},
   "outputs": [],
   "source": []
  }
 ],
 "metadata": {
  "kernelspec": {
   "display_name": "Python 2",
   "language": "python",
   "name": "python2"
  },
  "language_info": {
   "codemirror_mode": {
    "name": "ipython",
    "version": 2
   },
   "file_extension": ".py",
   "mimetype": "text/x-python",
   "name": "python",
   "nbconvert_exporter": "python",
   "pygments_lexer": "ipython2",
   "version": "2.7.6"
  }
 },
 "nbformat": 4,
 "nbformat_minor": 0
}
