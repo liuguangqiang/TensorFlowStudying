{
 "cells": [
  {
   "cell_type": "code",
   "execution_count": null,
   "metadata": {
    "collapsed": true
   },
   "outputs": [],
   "source": [
    "import numpy as np\n",
    "import cv2\n",
    "import os.path\n",
    "\n",
    "class MetaData:\n",
    "    def __init__(self, base, name, file):\n",
    "        self.base = base\n",
    "        self.name = name\n",
    "        self.file = file\n",
    "        \n",
    "    def image_path(self):\n",
    "        return os.path.join(self.base, self.name, self.file)       \n"
   ]
  }
 ],
 "metadata": {
  "kernelspec": {
   "display_name": "Python 2",
   "language": "python",
   "name": "python2"
  },
  "language_info": {
   "codemirror_mode": {
    "name": "ipython",
    "version": 2
   },
   "file_extension": ".py",
   "mimetype": "text/x-python",
   "name": "python",
   "nbconvert_exporter": "python",
   "pygments_lexer": "ipython2",
   "version": "2.7.6"
  }
 },
 "nbformat": 4,
 "nbformat_minor": 0
}
